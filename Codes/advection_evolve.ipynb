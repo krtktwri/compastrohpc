{
 "cells": [
  {
   "cell_type": "code",
   "execution_count": 1,
   "id": "83547225",
   "metadata": {},
   "outputs": [],
   "source": [
    "#adapted from ASI workshop: advection\n",
    "import numpy as np\n",
    "import matplotlib.pyplot as plt\n",
    "import sys"
   ]
  },
  {
   "cell_type": "code",
   "execution_count": 2,
   "id": "88059738",
   "metadata": {},
   "outputs": [],
   "source": [
    "#various limiters used in second order schemes using linear reconstruction\n",
    "def minmod(x1,x2):\n",
    "    if (x1*x2>0):\n",
    "        y=min(abs(x1),abs(x2))*np.sign(x1)\n",
    "    else:\n",
    "        y=0.0\n",
    "    return y\n",
    "\n",
    "def MClim(x1,x2):\n",
    "    y = minmod( 2.*minmod(x1,x2), 0.5*(x1+x2) )\n",
    "    return y\n",
    "\n",
    "def vanleer(x1,x2):\n",
    "    if (x1*x2>0):\n",
    "        y = 2.*x1*x2/(x1+x2)\n",
    "    else:\n",
    "        y = 0.0\n",
    "    return y"
   ]
  },
  {
   "cell_type": "code",
   "execution_count": 3,
   "id": "ae7ca272",
   "metadata": {},
   "outputs": [
    {
     "data": {
      "image/png": "[encoded data removed]",
      "text/plain": [
       "<Figure size 432x288 with 1 Axes>"
      ]
     },
     "metadata": {
      "needs_background": "light"
     },
     "output_type": "display_data"
    }
   ],
   "source": [
    "#----start of the main program----\n",
    "n=128 # number of grid points\n",
    "dx = 1.0/n\n",
    "x=np.arange(0.0,1.0,dx); x=x+0.5*dx #cell-centered grid; be careful abt grid centering\n",
    "f = np.exp(-(x-0.3)**2/0.05**2) # set up initial function\n",
    "for i in range(n):\n",
    "    if (f[i]<1.e-10):\n",
    "        f[i] = 1.e-10\n",
    "    if (x[i]>0.6 and x[i]<0.8):\n",
    "        f[i] = 1.0\n",
    "plt.plot(x,f,'-') #plot initial f\n",
    "plt.axis([0,1,-0.5,1.5])\n",
    "plt.grid()\n",
    "plt.show()\n",
    "#evolve\n",
    "v=-1.0; cfl=0.5; dt=cfl*dx/abs(v); time=0.0; tend=1.0"
   ]
  },
  {
   "cell_type": "code",
   "execution_count": 4,
   "id": "cbcc76d6",
   "metadata": {},
   "outputs": [],
   "source": [
    "def updated_f(f, v, dt, dx, method = 'donor-cell', limiter = 'None'):\n",
    "    n = np.size(f)\n",
    "    fnew = 0.*f\n",
    "    for i in range(n):\n",
    "        if (method == 'donor-cell'):\n",
    "            if (v > 0):\n",
    "                if (i != 0):\n",
    "                    fnew[i] = f[i] - (v*dt/dx)*(f[i]-f[i-1])\n",
    "                else:\n",
    "                    fnew[i] = f[i] - (v*dt/dx)*(f[i]-f[n-1])\n",
    "            else:\n",
    "                if (i != n-1):\n",
    "                    fnew[i] = f[i] - (v*dt/dx)*(f[i+1]-f[i])\n",
    "                else:\n",
    "                    fnew[i] = f[i] - (v*dt/dx)*(f[0]-f[i])\n",
    "        elif (method == 'Lax'):\n",
    "            if (i != n-1 and i != 0):\n",
    "                fnew[i] = 0.5*(f[i+1]+f[i-1]) - (0.5*v*dt/dx)*(f[i+1]-f[i-1])\n",
    "            if (i == n-1):\n",
    "                fnew[i] = 0.5*(f[0]+f[i-1]) - (0.5*v*dt/dx)*(f[0]-f[i-1])\n",
    "            if (i == 0):\n",
    "                fnew[i] = 0.5*(f[i+1]+f[n-1]) - (0.5*v*dt/dx)*(f[i+1]-f[n-1])\n",
    "        elif (method == 'Lax-Wendroff'):\n",
    "            if (i != n-1):\n",
    "                fp = 0.5*(f[i+1]+f[i]) - (0.5*v*dt/dx)*(f[i+1]-f[i])\n",
    "            else:\n",
    "                fp = 0.5*(f[0]+f[i]) - (0.5*v*dt/dx)*(f[0]-f[i])\n",
    "            if (i != 0):\n",
    "                fm = 0.5*(f[i-1]+f[i]) - (0.5*v*dt/dx)*(f[i]-f[i-1])\n",
    "            else:\n",
    "                fm = 0.5*(f[n-1]+f[i]) - (0.5*v*dt/dx)*(f[i]-f[n-1])\n",
    "            fp = v*fp; fm = v*fm\n",
    "            fnew[i] = f[i] - (v*dt/dx)*(fp-fm)\n",
    "        elif (method == 'linear'):\n",
    "        #----beginning of linear reconstruction upwind update ----\n",
    "        #implement slope limiters here; need two ghost zones in general\n",
    "            if (limiter != 'None'):\n",
    "                if (i == n-1):\n",
    "                    ip = 0\n",
    "                    ipp = 1\n",
    "                if (i == n-2):\n",
    "                    ip = n-1\n",
    "                    ipp = 0\n",
    "                if (i != n-1 and i != n-2):\n",
    "                    ip = i+1 \n",
    "                    ipp = i+2\n",
    "                if (i == 0):\n",
    "                    im = n-1\n",
    "                    imm = n-2\n",
    "                if (i == 1):\n",
    "                    im = 0\n",
    "                    imm = n-1\n",
    "                if (i != 0 and i != 1):\n",
    "                    im = i-1\n",
    "                    imm = i-2\n",
    "                if (v > 0): #v>0\n",
    "                    sigm = MClim(f[i]-f[im],f[im]-f[imm])/dx\n",
    "                    sigp = MClim(f[ip]-f[i],f[i]-f[im])/dx\n",
    "                    fnew[i] = f[i] - (v*dt/dx)*(f[i]-f[im])\n",
    "                else: #v<0\n",
    "                    sigm = MClim(f[i]-f[im],f[ip]-f[i])/dx\n",
    "                    sigp = MClim(f[ipp]-f[ip],f[ip]-f[i])/dx\n",
    "                    fnew[i]=f[i] - (v*dt/dx)*(f[ip]-f[i])\n",
    "                fnew[i]=fnew[i]-0.5*abs(v)*dt*(sigp-sigm)*(1.-abs(v)*dt/dx) #correction due to linear slope\n",
    "                #----end of linear reconstruction update----\n",
    "            else:\n",
    "                print(\"Illegal method\")\n",
    "                sys.exit()\n",
    "    return fnew"
   ]
  },
  {
   "cell_type": "code",
   "execution_count": 5,
   "id": "ec27b1f0",
   "metadata": {},
   "outputs": [
    {
     "data": {
      "image/png": "[encoded data removed]",
      "text/plain": [
       "<Figure size 432x288 with 1 Axes>"
      ]
     },
     "metadata": {
      "needs_background": "light"
     },
     "output_type": "display_data"
    }
   ],
   "source": [
    "plt.plot(x,f,'+-') #plot f at the beginning\n",
    "while (time<tend): #main time loop\n",
    "    dt = min(dt, tend-time)\n",
    "    time = time+dt\n",
    "    #print (dt, time)\n",
    "    #print(v, dt, dx)\n",
    "    f = updated_f(f, v, dt, dx, method = 'linear', limiter = MClim)\n",
    "    \n",
    "plt.plot(x,f,'+-') #plot f at the end\n",
    "#plt.axis([0,1,-0.5,1.5])\n",
    "plt.grid()\n",
    "plt.show()"
   ]
  }
 ],
 "metadata": {
  "kernelspec": {
   "display_name": "Python 3 (ipykernel)",
   "language": "python",
   "name": "python3"
  },
  "language_info": {
   "codemirror_mode": {
    "name": "ipython",
    "version": 3
   },
   "file_extension": ".py",
   "mimetype": "text/x-python",
   "name": "python",
   "nbconvert_exporter": "python",
   "pygments_lexer": "ipython3",
   "version": "3.10.9"
  }
 },
 "nbformat": 4,
 "nbformat_minor": 5
}
