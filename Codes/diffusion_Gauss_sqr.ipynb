{
 "cells": [
  {
   "cell_type": "code",
   "execution_count": 9,
   "id": "d342ec0a",
   "metadata": {},
   "outputs": [],
   "source": [
    "#workshop: diffusion\n",
    "import numpy as np\n",
    "import matplotlib.pyplot as plt\n",
    "import sys"
   ]
  },
  {
   "cell_type": "code",
   "execution_count": 4,
   "id": "862b81c2",
   "metadata": {},
   "outputs": [],
   "source": [
    "#---function to solve a tridiagnonal matrix equation----\n",
    "def tridiag(a, b, c, d): # [abc]x=d; a:num, b,c:num-1, d:num\n",
    "    num=len(d)\n",
    "    for k in range(1,num): #forward elimination\n",
    "        m=a[k-1]/b[k-1]\n",
    "        b[k]=b[k]-m*c[k-1]\n",
    "        d[k]=d[k]-m*d[k-1]\n",
    "    #backward substitution\n",
    "    res = np.zeros(num)\n",
    "    res[num-1]=d[num-1]/b[num-1]\n",
    "    for k in range(num-2,-1,-1):\n",
    "        res[k]=(d[k]-c[k]*res[k+1])/b[k]\n",
    "    return res"
   ]
  },
  {
   "cell_type": "code",
   "execution_count": 7,
   "id": "18c243f7",
   "metadata": {},
   "outputs": [],
   "source": [
    "def initialize_f(x):\n",
    "    n = np.size(x)\n",
    "    f = np.exp(-(x-0.3)**2/0.05**2) # set up initial function\n",
    "    for i in range(n):\n",
    "        if (f[i]<1.e-10):\n",
    "            f[i] = 1.e-10\n",
    "        if (x[i]>0.6 and x[i]<0.8):\n",
    "            f[i] = 1.0\n",
    "    return f"
   ]
  },
  {
   "cell_type": "code",
   "execution_count": 43,
   "id": "004a066d",
   "metadata": {},
   "outputs": [],
   "source": [
    "def evolve_diffusion(f, D, dt, dx, cfl, tend, BC = 'outflow', method = 'implicit'):\n",
    "    time = 0.0\n",
    "    n = np.size(f)\n",
    "    fnew = 0*f #make a copy in new array\n",
    "    while (time < tend):\n",
    "        dt = min(dt, tend-time)\n",
    "        Lam = D*dt/(dx*dx)\n",
    "        time = time+dt\n",
    "        if (method == 'FTCS'):\n",
    "            for i in range(n):\n",
    "                if (i != 0 and i != n-1):\n",
    "                    fnew[i] = f[i] + Lam*(f[i+1]-2*f[i]+f[i-1])\n",
    "                if (BC == 'outflow'):\n",
    "                    if (i == 0):\n",
    "                        fnew[i] = f[i] + Lam*(f[i+1]-2*f[i]+f[0]) #copy variable in GZ (outflow)\n",
    "                    if (i == n-1):\n",
    "                        fnew[i] = f[i] + Lam*(f[n-1]-2*f[i]+f[i-1]) #copy variable in GZ\n",
    "                elif (BC == 'periodic'):\n",
    "                    if (i == 0):\n",
    "                        fnew[i] = f[i] + Lam*(f[i+1]-2*f[i]+f[n-1]) #copy variable in GZ (outflow)\n",
    "                    if (i == n-1):\n",
    "                        fnew[i] = f[i] + Lam*(f[0]-2*f[i]+f[i-1]) #copy variable in GZ\n",
    "            f = 1*fnew\n",
    "        elif (method == 'implicit'):\n",
    "            if (BC == 'outflow'):\n",
    "                aa, bb, cc, dd = -Lam*np.ones(n+1), 1.0 + 2.*Lam*np.ones(n+2), -Lam*np.ones(n+1), np.zeros(n+2)\n",
    "                dd[1:n+1], aa[n], cc[0], bb[0], bb[n+1], dd[0], dd[n+1] = 1.*f, -1, -1, 1, 1, 0, 0 #subtlety w. indices\n",
    "                fnew = tridiag(aa, bb, cc, dd)\n",
    "                f = fnew[1:n+1]\n",
    "            elif (BC == 'periodic'): #since periodic problem is not tridiagonal, we use Sherman-Morrison formula in section 2.7.1 of Numerical Recipes Third Edition\n",
    "                aa, bb, cc, dd = -Lam*np.ones(n-1), 1.0 + 2.*Lam*np.ones(n), -Lam*np.ones(n-1), 1.*f\n",
    "                bb[0], bb[n-1] = bb[0] - 1, bb[n-1] - Lam*Lam\n",
    "                u, v = np.zeros(n), np.zeros(n)\n",
    "                u[0], v[0], u[n-1], v[n-1] = 1, 1, -Lam, -Lam\n",
    "                z = tridiag(np.copy(aa), np.copy(bb), np.copy(cc), u) #need a copy since arrays are changed in the function\n",
    "                y = tridiag(aa, bb, cc, dd)\n",
    "                f = y - z*np.dot(v,y)/(1 + np.dot(v,z))\n",
    "            else:\n",
    "                print(\"Illegal boundary condition\")\n",
    "                sys.exit()\n",
    "        elif (method == 'crank-nicholson'):\n",
    "            if (BC == 'outflow'):\n",
    "                aa, bb, cc, dd = -0.5*Lam*np.ones(n+1), 1.0 + Lam*np.ones(n+2), -0.5*Lam*np.ones(n+1), np.zeros(n+2)\n",
    "                aa[n], cc[0], bb[0], bb[n+1] = -1 , -1, 1, 1#subtlety w. indices\n",
    "                for i in range(1,n+1): #be careful about boundaries; outflow BCs implemented via im2 and ii\n",
    "                    if (i == 1):\n",
    "                        im2 = i-1\n",
    "                    else:\n",
    "                        im2 = i-2\n",
    "                    if (i == n):\n",
    "                        ii = i-1\n",
    "                    else:\n",
    "                        ii = i\n",
    "                    dd[i] = f[i-1] + 0.5*Lam*(f[ii]-2*f[i-1]+f[im2])\n",
    "                fnew = tridiag(aa,bb,cc,dd)\n",
    "                f=fnew[1:n+1]\n",
    "            elif (BC == 'periodic'):\n",
    "                aa, bb, cc, dd = -0.5*Lam*np.ones(n-1), 1.0 + Lam*np.ones(n), -0.5*Lam*np.ones(n-1), np.zeros(n)\n",
    "                bb[0], bb[n-1] = bb[0] - 1, bb[n-1] - 0.25*Lam*Lam\n",
    "                u, v = np.zeros(n), np.zeros(n)\n",
    "                u[0], v[0], u[n-1], v[n-1] = 1, 1, -0.5*Lam, -0.5*Lam\n",
    "                z = tridiag(np.copy(aa), np.copy(bb), np.copy(cc), u) #need a copy since arrays are changed in the function\n",
    "                for i in range(n):\n",
    "                    if (i == 0):\n",
    "                        im1, ip1 = n-1, i+1\n",
    "                    elif (i == n-1):\n",
    "                        im1, ip1 = i-1, 0\n",
    "                    else:\n",
    "                        im1, ip1 = i-1, i+1\n",
    "                    dd[i] = f[i] + 0.5*Lam*(f[im1]-2*f[i]+f[ip1])\n",
    "                y = tridiag(aa, bb, cc, dd)\n",
    "                f = y - z*np.dot(v,y)/(1 + np.dot(v,z))\n",
    "            else:\n",
    "                print(\"Illegal boundary condition\")\n",
    "                sys.exit()\n",
    "        else:\n",
    "            print(\"Illegal option for method\")\n",
    "            sys.exit()\n",
    "    return f"
   ]
  },
  {
   "cell_type": "code",
   "execution_count": 49,
   "id": "1b926cd5",
   "metadata": {},
   "outputs": [
    {
     "name": "stdout",
     "output_type": "stream",
     "text": [
      "0.2839351925767914\n",
      "0.2839351925767857\n"
     ]
    },
    {
     "data": {
      "image/png": "[encoded data removed]",
      "text/plain": [
       "<Figure size 640x480 with 1 Axes>"
      ]
     },
     "metadata": {},
     "output_type": "display_data"
    }
   ],
   "source": [
    "#setting up initial condition, # of grid points, etc.\n",
    "n = 128 # number of grid points\n",
    "dx = 1.0/n #grid spacing\n",
    "x = np.arange(0.0, 1.0, dx)\n",
    "x = x + 0.5*dx #cell-centered grid; be careful abt grid centering\n",
    "f = initialize_f(x)\n",
    "plt.plot(x, f ,'-')\n",
    "print (np.mean(f)) #mean(f) should remain the same if there is no net flux entering/leaving the box\n",
    "D = 1.0\n",
    "cfl = 10 #CFL number\n",
    "dt = cfl*dx*dx/(2.*D) #timestep\n",
    "tend=0.01\n",
    "f = evolve_diffusion(f, D, dt, dx, cfl, tend, BC = 'periodic', method = 'crank-nicholson')\n",
    "plt.plot(x, f ,'-')\n",
    "plt.grid()\n",
    "print(np.mean(f))"
   ]
  },
  {
   "cell_type": "code",
   "execution_count": null,
   "id": "d9ac7120",
   "metadata": {},
   "outputs": [],
   "source": []
  }
 ],
 "metadata": {
  "kernelspec": {
   "display_name": "Python 3 (ipykernel)",
   "language": "python",
   "name": "python3"
  },
  "language_info": {
   "codemirror_mode": {
    "name": "ipython",
    "version": 3
   },
   "file_extension": ".py",
   "mimetype": "text/x-python",
   "name": "python",
   "nbconvert_exporter": "python",
   "pygments_lexer": "ipython3",
   "version": "3.10.9"
  }
 },
 "nbformat": 4,
 "nbformat_minor": 5
}
